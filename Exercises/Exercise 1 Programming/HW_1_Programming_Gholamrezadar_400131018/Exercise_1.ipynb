{
 "cells": [
  {
   "cell_type": "markdown",
   "metadata": {},
   "source": [
    "Amirkabir University of Technology\n",
    "\n",
    "Applied Linear Algebra\n",
    "\n",
    "Dr Amirmazlaghani\n",
    "\n",
    "By: Gholamreza Dar 400131018\n",
    "\n",
    "March 2022\n"
   ]
  },
  {
   "cell_type": "markdown",
   "metadata": {},
   "source": [
    "## Imports and inits"
   ]
  },
  {
   "cell_type": "code",
   "execution_count": 106,
   "metadata": {},
   "outputs": [],
   "source": [
    "import numpy as np\n",
    "import pandas as pd\n",
    "from IPython.display import display, Math\n",
    "\n",
    "from fractions import Fraction\n",
    "from functools import reduce\n",
    "from math import lcm\n"
   ]
  },
  {
   "cell_type": "code",
   "execution_count": 107,
   "metadata": {},
   "outputs": [],
   "source": [
    "M = 0 # number of rows(elements)\n",
    "N = 0 # number of columns(compounds) + 1(b=0)\n",
    "elements = [] # Chemical Elements\n",
    "compounds = [] # Chemical Compounds\n",
    "coeff_matrix = None # Coefficient Matrix"
   ]
  },
  {
   "cell_type": "markdown",
   "metadata": {},
   "source": [
    "## Helper Functions"
   ]
  },
  {
   "cell_type": "markdown",
   "metadata": {},
   "source": [
    "### def compound_to_vector()"
   ]
  },
  {
   "cell_type": "code",
   "execution_count": 108,
   "metadata": {},
   "outputs": [],
   "source": [
    "def compound_to_vector(compound, elements):\n",
    "    \"\"\"This function converts a compound to a vector.\n",
    "    Args:\n",
    "        compound (str): Chemical compound as an array of elements.\n",
    "        for example ['C2', 'H6']\n",
    "        elements (list): Chemical elements as an array.\n",
    "        for example ['C', 'H', 'O']\n",
    "\n",
    "    Returns:\n",
    "        vector (list): count of atoms per element as a vector of size len(elements).\n",
    "        \n",
    "    example:\n",
    "        compound = 'C2H4'\n",
    "        elements = ['C', 'H', 'O']\n",
    "        returns:\n",
    "        [2,4,0]\n",
    "    \"\"\"\n",
    "    vector = np.zeros(len(elements))\n",
    "    for element in compound:\n",
    "        if len(element) == 1:\n",
    "            vector[elements.index(element)] = 1\n",
    "        else:\n",
    "            vector[elements.index(element[0])] = element[1:]\n",
    "    return vector"
   ]
  },
  {
   "cell_type": "code",
   "execution_count": 109,
   "metadata": {},
   "outputs": [
    {
     "data": {
      "text/plain": [
       "array([ 0., 20.,  6.])"
      ]
     },
     "execution_count": 109,
     "metadata": {},
     "output_type": "execute_result"
    }
   ],
   "source": [
    "# testing our function\n",
    "compound_to_vector(\n",
    "    ['H20', 'O6'], \n",
    "    elements=\"C H O\".split())"
   ]
  },
  {
   "cell_type": "markdown",
   "metadata": {},
   "source": [
    "### Index finders \n",
    "(non zero row and column finders)"
   ]
  },
  {
   "cell_type": "code",
   "execution_count": 110,
   "metadata": {},
   "outputs": [],
   "source": [
    "def get_left_most_non_zero_column_index(matrix, start_row_index):\n",
    "    is_col_non_zero_list = [matrix[start_row_index:,i].any() for i in range(matrix.shape[1])]\n",
    "    if np.any(is_col_non_zero_list):\n",
    "        return np.argmax(is_col_non_zero_list)\n",
    "    else:\n",
    "        return -1\n",
    "\n",
    "def get_top_most_non_zero_row_index(matrix, start_row_index, pivot_column_index):\n",
    "    is_row_non_zero_list = [matrix[i,pivot_column_index].any() for i in range(matrix.shape[0])]\n",
    "\n",
    "    # Ignore the rows before i\n",
    "    for i in range(start_row_index):\n",
    "        is_row_non_zero_list[i] = False\n",
    "\n",
    "    if np.any(is_row_non_zero_list):\n",
    "        return np.argmax(is_row_non_zero_list)\n",
    "    else:\n",
    "        return -1\n",
    "    \n",
    "def get_top_most_non_zero_row_index_thats_not_current_row(matrix, current_row_index, start_row_index, pivot_column_index):\n",
    "    is_row_non_zero_list = [matrix[i,pivot_column_index].any() for i in range(matrix.shape[0])]\n",
    "\n",
    "    # Ignore the rows before i\n",
    "    for i in range(start_row_index):\n",
    "        is_row_non_zero_list[i] = False\n",
    "\n",
    "    # Ignore the current row even if it's non-zero\n",
    "    is_row_non_zero_list[current_row_index] = False\n",
    "\n",
    "    if np.any(is_row_non_zero_list):\n",
    "        return np.argmax(is_row_non_zero_list)\n",
    "    else:\n",
    "        return -1"
   ]
  },
  {
   "cell_type": "code",
   "execution_count": 111,
   "metadata": {},
   "outputs": [],
   "source": [
    "def highlight_cell(val):\n",
    "    color = '#16a08544' if val==1.00 else ''\n",
    "\n",
    "    return 'background-color:' + color"
   ]
  },
  {
   "cell_type": "markdown",
   "metadata": {},
   "source": [
    "### def row_echelon_form()"
   ]
  },
  {
   "cell_type": "code",
   "execution_count": 112,
   "metadata": {},
   "outputs": [],
   "source": [
    "def row_echelon_form(matrix, elements, debug=False):\n",
    "    pivot_positions = []\n",
    "    # For every row\n",
    "    for i in range(matrix.shape[0]):\n",
    "        left_most_non_zero_column_index = get_left_most_non_zero_column_index(matrix, start_row_index=i)\n",
    "        if left_most_non_zero_column_index == -1:\n",
    "            break\n",
    "\n",
    "        # Step 1: try to put a 1 in the 'i'th row of the 'left_most_non_zero_column_index' column (aka pivot position)\n",
    "        # check if its not non-zero already\n",
    "        if matrix[i,left_most_non_zero_column_index] == 0:\n",
    "            # find the top most non zero row below pivot\n",
    "            top_most_non_zero_row_index = get_top_most_non_zero_row_index(\n",
    "                matrix,\n",
    "                start_row_index=i,\n",
    "                pivot_column_index=left_most_non_zero_column_index)\n",
    "            if top_most_non_zero_row_index == -1:\n",
    "                break\n",
    "            # add the found non-zero row to the 'i'th row (pivots row)\n",
    "            matrix[i,:] += matrix[top_most_non_zero_row_index,:]\n",
    "        # divide 'i'th row (pivots row) by the pivots value to get 1 in pivots position\n",
    "        matrix[i,:] = matrix[i,:] / matrix[i, left_most_non_zero_column_index]\n",
    "\n",
    "        # save the pivot positions for styling\n",
    "        pivot_positions.append((i,left_most_non_zero_column_index))\n",
    "\n",
    "        # Step 2: make all the other rows below the pivots row zero in the 'left_most_non_zero_column_index' column\n",
    "        for row_index in range(i+1, matrix.shape[0]):\n",
    "            # find the top most non zero row below pivot\n",
    "            top_most_non_zero_row_index_thats_not_current_row = get_top_most_non_zero_row_index_thats_not_current_row(\n",
    "                matrix,\n",
    "                current_row_index=row_index,\n",
    "                start_row_index=i,\n",
    "                pivot_column_index=left_most_non_zero_column_index)\n",
    "            \n",
    "            if top_most_non_zero_row_index_thats_not_current_row == -1:\n",
    "                break\n",
    "            \n",
    "            # add the found non-zero row to the current_row and make it zero in the 'left_most_non_zero_column_index'(pivot_index) column\n",
    "            coef = -1.0 * matrix[row_index, left_most_non_zero_column_index] / matrix[top_most_non_zero_row_index_thats_not_current_row, left_most_non_zero_column_index]\n",
    "            matrix[row_index,:] += coef * matrix[top_most_non_zero_row_index_thats_not_current_row,:]\n",
    "        \n",
    "        if debug:\n",
    "            # show the coeff matrix as a dataframe\n",
    "            print(f'i={i}')\n",
    "            df = pd.DataFrame(\n",
    "                matrix.round(2)+0, # +0 to get rid of -0.0.\n",
    "                columns=[\"X\"+str(x) for x in range(1,matrix.shape[1])]+[\"b\"],\n",
    "                index=elements\n",
    "                )\n",
    "\n",
    "            df = df.round(3)\n",
    "\n",
    "            # for ii in pivot_positions:\n",
    "            #     df.iloc[ii[0], ii[1]] = 1234\n",
    "            \n",
    "            # style = df.style.applymap(highlight_cell).copy()\n",
    "            \n",
    "            # for ii in pivot_positions:\n",
    "            #     df.iloc[ii[0], ii[1]] = 1.00\n",
    "            \n",
    "            display(df)\n",
    "    \n",
    "    return matrix, pivot_positions"
   ]
  },
  {
   "cell_type": "markdown",
   "metadata": {},
   "source": [
    "### def reduced_row_echelon_form()"
   ]
  },
  {
   "cell_type": "code",
   "execution_count": 113,
   "metadata": {},
   "outputs": [],
   "source": [
    "def reduced_row_echelon_form(matrix, pivot_positions, elements, debug=False):\n",
    "    # sort pivots from right to left\n",
    "    pivot_positions = sorted(pivot_positions, key=lambda x: x[1], reverse=True)\n",
    "\n",
    "    for pivot in pivot_positions:\n",
    "        for current_row in range(pivot[0]):\n",
    "            # add the pivot row to the current_row and make it zero in the pivot column\n",
    "            coef = -1.0 * matrix[current_row, pivot[1]] / matrix[pivot[0], pivot[1]]\n",
    "            matrix[current_row,:] += coef * matrix[pivot[0],:]\n",
    "        \n",
    "        if debug:\n",
    "            print(f\"Current pivot{pivot}\")\n",
    "            # show the coeff matrix as a dataframe\n",
    "            df = pd.DataFrame(\n",
    "                matrix.round(2)+0, # +0 to get rid of -0.0.\n",
    "                columns=[\"X\"+str(x) for x in range(1,matrix.shape[1])]+[\"b\"],\n",
    "                index=elements\n",
    "                )\n",
    "            df = df.round(3)\n",
    "            # df = df.style.applymap(highlight_cell)\n",
    "            display(df)\n",
    "            print()\n",
    "    "
   ]
  },
  {
   "cell_type": "markdown",
   "metadata": {},
   "source": [
    "## Main"
   ]
  },
  {
   "cell_type": "markdown",
   "metadata": {},
   "source": [
    "### Decoding the input file"
   ]
  },
  {
   "cell_type": "code",
   "execution_count": 114,
   "metadata": {},
   "outputs": [
    {
     "name": "stdout",
     "output_type": "stream",
     "text": [
      "Number of elements:  3\n",
      "Number of compounds:  4\n",
      "Elements:  ['C', 'H', 'O']\n",
      "compounds LHS:  [['C2', 'H6'], ['O2']]\n",
      "compounds RHS:  [['C', 'O2'], ['H2', 'O']]\n",
      "\n",
      "Coefficients Matrix: \n"
     ]
    },
    {
     "data": {
      "text/html": [
       "<div>\n",
       "<style scoped>\n",
       "    .dataframe tbody tr th:only-of-type {\n",
       "        vertical-align: middle;\n",
       "    }\n",
       "\n",
       "    .dataframe tbody tr th {\n",
       "        vertical-align: top;\n",
       "    }\n",
       "\n",
       "    .dataframe thead th {\n",
       "        text-align: right;\n",
       "    }\n",
       "</style>\n",
       "<table border=\"1\" class=\"dataframe\">\n",
       "  <thead>\n",
       "    <tr style=\"text-align: right;\">\n",
       "      <th></th>\n",
       "      <th>X1</th>\n",
       "      <th>X2</th>\n",
       "      <th>X3</th>\n",
       "      <th>X4</th>\n",
       "      <th>b</th>\n",
       "    </tr>\n",
       "  </thead>\n",
       "  <tbody>\n",
       "    <tr>\n",
       "      <th>C</th>\n",
       "      <td>2.0</td>\n",
       "      <td>0.0</td>\n",
       "      <td>-1.0</td>\n",
       "      <td>-0.0</td>\n",
       "      <td>0.0</td>\n",
       "    </tr>\n",
       "    <tr>\n",
       "      <th>H</th>\n",
       "      <td>6.0</td>\n",
       "      <td>0.0</td>\n",
       "      <td>-0.0</td>\n",
       "      <td>-2.0</td>\n",
       "      <td>0.0</td>\n",
       "    </tr>\n",
       "    <tr>\n",
       "      <th>O</th>\n",
       "      <td>0.0</td>\n",
       "      <td>2.0</td>\n",
       "      <td>-2.0</td>\n",
       "      <td>-1.0</td>\n",
       "      <td>0.0</td>\n",
       "    </tr>\n",
       "  </tbody>\n",
       "</table>\n",
       "</div>"
      ],
      "text/plain": [
       "    X1   X2   X3   X4    b\n",
       "C  2.0  0.0 -1.0 -0.0  0.0\n",
       "H  6.0  0.0 -0.0 -2.0  0.0\n",
       "O  0.0  2.0 -2.0 -1.0  0.0"
      ]
     },
     "metadata": {},
     "output_type": "display_data"
    }
   ],
   "source": [
    "# The input file should contain 2 lines\n",
    "# first line shows all of the chemical elements seperated by a space example: 'C H O'\n",
    "# second line shows the chemical reaction example: 'C2 H6 + O2 -> C O2 + H2 O'\n",
    "with open('input.txt', 'r') as f:\n",
    "    lines = f.readlines()\n",
    "\n",
    "    if len(lines)<2:\n",
    "        print('Error: File is empty!')\n",
    "    else:\n",
    "        elements = lines[0].split()\n",
    "\n",
    "        # Split by ->\n",
    "        compounds_left = lines[1].split('->')[0].split('+')\n",
    "        compounds_right = lines[1].split('->')[1].split('+')\n",
    "        \n",
    "        # Get M, N\n",
    "        M = len(elements)\n",
    "        N = len(compounds_left) + len(compounds_right) + 1 # +1 for b=0\n",
    "\n",
    "        # Coeff matrix\n",
    "        coeff_matrix = np.zeros((M, N), dtype=np.float64)\n",
    "\n",
    "        # Extract compounds\n",
    "        compounds_left = [x.split() for x in compounds_left]\n",
    "        compounds_right = [x.split() for x in compounds_right]\n",
    "\n",
    "        i = 0\n",
    "        # Loop through the left hand side compounds and add them to the coeff matrix as column vectors\n",
    "        for compound in compounds_left:\n",
    "            coeff_matrix[:,i] = compound_to_vector(compound, elements)\n",
    "            i += 1\n",
    "\n",
    "        # Loop through the right hand side compounds and add them to the coeff matrix as column vectors but multiplied by -1\n",
    "        for compound in compounds_right:\n",
    "            coeff_matrix[:,i] = -1*compound_to_vector(compound, elements)\n",
    "            i += 1\n",
    "\n",
    "print('Number of elements: ', M)\n",
    "print('Number of compounds: ', N-1)\n",
    "print('Elements: ', elements)\n",
    "print('compounds LHS: ', compounds_left)\n",
    "print('compounds RHS: ', compounds_right)\n",
    "print('\\nCoefficients Matrix: ')\n",
    "\n",
    "# show the coeff matrix as a dataframe\n",
    "df = pd.DataFrame(\n",
    "    coeff_matrix, \n",
    "    columns=[\"X\"+str(x) for x in range(1,N)]+[\"b\"],\n",
    "    index=elements\n",
    "    )\n",
    "display(df)"
   ]
  },
  {
   "cell_type": "markdown",
   "metadata": {},
   "source": [
    "### Echelon form\n",
    "Convert the Augmented Coefficients Matrix into the echelon form."
   ]
  },
  {
   "cell_type": "code",
   "execution_count": 115,
   "metadata": {},
   "outputs": [],
   "source": [
    "# test matrix\n",
    "# matrix = np.array(\n",
    "#     [\n",
    "#         [0, 3 ,-6, 6, 4, -5,],\n",
    "#         [3, -7 ,8, -5, 8, 9,],\n",
    "#         [3, -9 ,12, -9, 6, 15,],\n",
    "#     ], dtype=np.float64)\n",
    "\n",
    "matrix = coeff_matrix"
   ]
  },
  {
   "cell_type": "code",
   "execution_count": 116,
   "metadata": {},
   "outputs": [
    {
     "name": "stdout",
     "output_type": "stream",
     "text": [
      "Converting The Augmented Matrix to Row Echelon Form\n",
      "\n",
      "i=0\n"
     ]
    },
    {
     "data": {
      "text/html": [
       "<div>\n",
       "<style scoped>\n",
       "    .dataframe tbody tr th:only-of-type {\n",
       "        vertical-align: middle;\n",
       "    }\n",
       "\n",
       "    .dataframe tbody tr th {\n",
       "        vertical-align: top;\n",
       "    }\n",
       "\n",
       "    .dataframe thead th {\n",
       "        text-align: right;\n",
       "    }\n",
       "</style>\n",
       "<table border=\"1\" class=\"dataframe\">\n",
       "  <thead>\n",
       "    <tr style=\"text-align: right;\">\n",
       "      <th></th>\n",
       "      <th>X1</th>\n",
       "      <th>X2</th>\n",
       "      <th>X3</th>\n",
       "      <th>X4</th>\n",
       "      <th>b</th>\n",
       "    </tr>\n",
       "  </thead>\n",
       "  <tbody>\n",
       "    <tr>\n",
       "      <th>C</th>\n",
       "      <td>1.0</td>\n",
       "      <td>0.0</td>\n",
       "      <td>-0.5</td>\n",
       "      <td>0.0</td>\n",
       "      <td>0.0</td>\n",
       "    </tr>\n",
       "    <tr>\n",
       "      <th>H</th>\n",
       "      <td>0.0</td>\n",
       "      <td>0.0</td>\n",
       "      <td>3.0</td>\n",
       "      <td>-2.0</td>\n",
       "      <td>0.0</td>\n",
       "    </tr>\n",
       "    <tr>\n",
       "      <th>O</th>\n",
       "      <td>0.0</td>\n",
       "      <td>2.0</td>\n",
       "      <td>-2.0</td>\n",
       "      <td>-1.0</td>\n",
       "      <td>0.0</td>\n",
       "    </tr>\n",
       "  </tbody>\n",
       "</table>\n",
       "</div>"
      ],
      "text/plain": [
       "    X1   X2   X3   X4    b\n",
       "C  1.0  0.0 -0.5  0.0  0.0\n",
       "H  0.0  0.0  3.0 -2.0  0.0\n",
       "O  0.0  2.0 -2.0 -1.0  0.0"
      ]
     },
     "metadata": {},
     "output_type": "display_data"
    },
    {
     "name": "stdout",
     "output_type": "stream",
     "text": [
      "i=1\n"
     ]
    },
    {
     "data": {
      "text/html": [
       "<div>\n",
       "<style scoped>\n",
       "    .dataframe tbody tr th:only-of-type {\n",
       "        vertical-align: middle;\n",
       "    }\n",
       "\n",
       "    .dataframe tbody tr th {\n",
       "        vertical-align: top;\n",
       "    }\n",
       "\n",
       "    .dataframe thead th {\n",
       "        text-align: right;\n",
       "    }\n",
       "</style>\n",
       "<table border=\"1\" class=\"dataframe\">\n",
       "  <thead>\n",
       "    <tr style=\"text-align: right;\">\n",
       "      <th></th>\n",
       "      <th>X1</th>\n",
       "      <th>X2</th>\n",
       "      <th>X3</th>\n",
       "      <th>X4</th>\n",
       "      <th>b</th>\n",
       "    </tr>\n",
       "  </thead>\n",
       "  <tbody>\n",
       "    <tr>\n",
       "      <th>C</th>\n",
       "      <td>1.0</td>\n",
       "      <td>0.0</td>\n",
       "      <td>-0.5</td>\n",
       "      <td>0.0</td>\n",
       "      <td>0.0</td>\n",
       "    </tr>\n",
       "    <tr>\n",
       "      <th>H</th>\n",
       "      <td>0.0</td>\n",
       "      <td>1.0</td>\n",
       "      <td>0.5</td>\n",
       "      <td>-1.5</td>\n",
       "      <td>0.0</td>\n",
       "    </tr>\n",
       "    <tr>\n",
       "      <th>O</th>\n",
       "      <td>0.0</td>\n",
       "      <td>0.0</td>\n",
       "      <td>-3.0</td>\n",
       "      <td>2.0</td>\n",
       "      <td>0.0</td>\n",
       "    </tr>\n",
       "  </tbody>\n",
       "</table>\n",
       "</div>"
      ],
      "text/plain": [
       "    X1   X2   X3   X4    b\n",
       "C  1.0  0.0 -0.5  0.0  0.0\n",
       "H  0.0  1.0  0.5 -1.5  0.0\n",
       "O  0.0  0.0 -3.0  2.0  0.0"
      ]
     },
     "metadata": {},
     "output_type": "display_data"
    },
    {
     "name": "stdout",
     "output_type": "stream",
     "text": [
      "i=2\n"
     ]
    },
    {
     "data": {
      "text/html": [
       "<div>\n",
       "<style scoped>\n",
       "    .dataframe tbody tr th:only-of-type {\n",
       "        vertical-align: middle;\n",
       "    }\n",
       "\n",
       "    .dataframe tbody tr th {\n",
       "        vertical-align: top;\n",
       "    }\n",
       "\n",
       "    .dataframe thead th {\n",
       "        text-align: right;\n",
       "    }\n",
       "</style>\n",
       "<table border=\"1\" class=\"dataframe\">\n",
       "  <thead>\n",
       "    <tr style=\"text-align: right;\">\n",
       "      <th></th>\n",
       "      <th>X1</th>\n",
       "      <th>X2</th>\n",
       "      <th>X3</th>\n",
       "      <th>X4</th>\n",
       "      <th>b</th>\n",
       "    </tr>\n",
       "  </thead>\n",
       "  <tbody>\n",
       "    <tr>\n",
       "      <th>C</th>\n",
       "      <td>1.0</td>\n",
       "      <td>0.0</td>\n",
       "      <td>-0.5</td>\n",
       "      <td>0.00</td>\n",
       "      <td>0.0</td>\n",
       "    </tr>\n",
       "    <tr>\n",
       "      <th>H</th>\n",
       "      <td>0.0</td>\n",
       "      <td>1.0</td>\n",
       "      <td>0.5</td>\n",
       "      <td>-1.50</td>\n",
       "      <td>0.0</td>\n",
       "    </tr>\n",
       "    <tr>\n",
       "      <th>O</th>\n",
       "      <td>0.0</td>\n",
       "      <td>0.0</td>\n",
       "      <td>1.0</td>\n",
       "      <td>-0.67</td>\n",
       "      <td>0.0</td>\n",
       "    </tr>\n",
       "  </tbody>\n",
       "</table>\n",
       "</div>"
      ],
      "text/plain": [
       "    X1   X2   X3    X4    b\n",
       "C  1.0  0.0 -0.5  0.00  0.0\n",
       "H  0.0  1.0  0.5 -1.50  0.0\n",
       "O  0.0  0.0  1.0 -0.67  0.0"
      ]
     },
     "metadata": {},
     "output_type": "display_data"
    },
    {
     "name": "stdout",
     "output_type": "stream",
     "text": [
      "Pivot positions: (0, 0), (1, 1), (2, 2)\n"
     ]
    }
   ],
   "source": [
    "print(\"Converting The Augmented Matrix to Row Echelon Form\\n\")\n",
    "row_echelon_matrix, pivot_positions = row_echelon_form(matrix, elements, debug=True)\n",
    "print(f\"Pivot positions: {', '.join(list(map(str,pivot_positions)))}\")"
   ]
  },
  {
   "cell_type": "markdown",
   "metadata": {},
   "source": [
    "### Reduced Echelon form\n",
    "Convert echelon form to reduced echelon form."
   ]
  },
  {
   "cell_type": "code",
   "execution_count": 117,
   "metadata": {},
   "outputs": [
    {
     "name": "stdout",
     "output_type": "stream",
     "text": [
      "Converting The Augmented Matrix to Reduced Row Echelon Form\n",
      "\n",
      "Current pivot(2, 2)\n"
     ]
    },
    {
     "data": {
      "text/html": [
       "<div>\n",
       "<style scoped>\n",
       "    .dataframe tbody tr th:only-of-type {\n",
       "        vertical-align: middle;\n",
       "    }\n",
       "\n",
       "    .dataframe tbody tr th {\n",
       "        vertical-align: top;\n",
       "    }\n",
       "\n",
       "    .dataframe thead th {\n",
       "        text-align: right;\n",
       "    }\n",
       "</style>\n",
       "<table border=\"1\" class=\"dataframe\">\n",
       "  <thead>\n",
       "    <tr style=\"text-align: right;\">\n",
       "      <th></th>\n",
       "      <th>X1</th>\n",
       "      <th>X2</th>\n",
       "      <th>X3</th>\n",
       "      <th>X4</th>\n",
       "      <th>b</th>\n",
       "    </tr>\n",
       "  </thead>\n",
       "  <tbody>\n",
       "    <tr>\n",
       "      <th>C</th>\n",
       "      <td>1.0</td>\n",
       "      <td>0.0</td>\n",
       "      <td>0.0</td>\n",
       "      <td>-0.33</td>\n",
       "      <td>0.0</td>\n",
       "    </tr>\n",
       "    <tr>\n",
       "      <th>H</th>\n",
       "      <td>0.0</td>\n",
       "      <td>1.0</td>\n",
       "      <td>0.0</td>\n",
       "      <td>-1.17</td>\n",
       "      <td>0.0</td>\n",
       "    </tr>\n",
       "    <tr>\n",
       "      <th>O</th>\n",
       "      <td>0.0</td>\n",
       "      <td>0.0</td>\n",
       "      <td>1.0</td>\n",
       "      <td>-0.67</td>\n",
       "      <td>0.0</td>\n",
       "    </tr>\n",
       "  </tbody>\n",
       "</table>\n",
       "</div>"
      ],
      "text/plain": [
       "    X1   X2   X3    X4    b\n",
       "C  1.0  0.0  0.0 -0.33  0.0\n",
       "H  0.0  1.0  0.0 -1.17  0.0\n",
       "O  0.0  0.0  1.0 -0.67  0.0"
      ]
     },
     "metadata": {},
     "output_type": "display_data"
    },
    {
     "name": "stdout",
     "output_type": "stream",
     "text": [
      "\n",
      "Current pivot(1, 1)\n"
     ]
    },
    {
     "data": {
      "text/html": [
       "<div>\n",
       "<style scoped>\n",
       "    .dataframe tbody tr th:only-of-type {\n",
       "        vertical-align: middle;\n",
       "    }\n",
       "\n",
       "    .dataframe tbody tr th {\n",
       "        vertical-align: top;\n",
       "    }\n",
       "\n",
       "    .dataframe thead th {\n",
       "        text-align: right;\n",
       "    }\n",
       "</style>\n",
       "<table border=\"1\" class=\"dataframe\">\n",
       "  <thead>\n",
       "    <tr style=\"text-align: right;\">\n",
       "      <th></th>\n",
       "      <th>X1</th>\n",
       "      <th>X2</th>\n",
       "      <th>X3</th>\n",
       "      <th>X4</th>\n",
       "      <th>b</th>\n",
       "    </tr>\n",
       "  </thead>\n",
       "  <tbody>\n",
       "    <tr>\n",
       "      <th>C</th>\n",
       "      <td>1.0</td>\n",
       "      <td>0.0</td>\n",
       "      <td>0.0</td>\n",
       "      <td>-0.33</td>\n",
       "      <td>0.0</td>\n",
       "    </tr>\n",
       "    <tr>\n",
       "      <th>H</th>\n",
       "      <td>0.0</td>\n",
       "      <td>1.0</td>\n",
       "      <td>0.0</td>\n",
       "      <td>-1.17</td>\n",
       "      <td>0.0</td>\n",
       "    </tr>\n",
       "    <tr>\n",
       "      <th>O</th>\n",
       "      <td>0.0</td>\n",
       "      <td>0.0</td>\n",
       "      <td>1.0</td>\n",
       "      <td>-0.67</td>\n",
       "      <td>0.0</td>\n",
       "    </tr>\n",
       "  </tbody>\n",
       "</table>\n",
       "</div>"
      ],
      "text/plain": [
       "    X1   X2   X3    X4    b\n",
       "C  1.0  0.0  0.0 -0.33  0.0\n",
       "H  0.0  1.0  0.0 -1.17  0.0\n",
       "O  0.0  0.0  1.0 -0.67  0.0"
      ]
     },
     "metadata": {},
     "output_type": "display_data"
    },
    {
     "name": "stdout",
     "output_type": "stream",
     "text": [
      "\n",
      "Current pivot(0, 0)\n"
     ]
    },
    {
     "data": {
      "text/html": [
       "<div>\n",
       "<style scoped>\n",
       "    .dataframe tbody tr th:only-of-type {\n",
       "        vertical-align: middle;\n",
       "    }\n",
       "\n",
       "    .dataframe tbody tr th {\n",
       "        vertical-align: top;\n",
       "    }\n",
       "\n",
       "    .dataframe thead th {\n",
       "        text-align: right;\n",
       "    }\n",
       "</style>\n",
       "<table border=\"1\" class=\"dataframe\">\n",
       "  <thead>\n",
       "    <tr style=\"text-align: right;\">\n",
       "      <th></th>\n",
       "      <th>X1</th>\n",
       "      <th>X2</th>\n",
       "      <th>X3</th>\n",
       "      <th>X4</th>\n",
       "      <th>b</th>\n",
       "    </tr>\n",
       "  </thead>\n",
       "  <tbody>\n",
       "    <tr>\n",
       "      <th>C</th>\n",
       "      <td>1.0</td>\n",
       "      <td>0.0</td>\n",
       "      <td>0.0</td>\n",
       "      <td>-0.33</td>\n",
       "      <td>0.0</td>\n",
       "    </tr>\n",
       "    <tr>\n",
       "      <th>H</th>\n",
       "      <td>0.0</td>\n",
       "      <td>1.0</td>\n",
       "      <td>0.0</td>\n",
       "      <td>-1.17</td>\n",
       "      <td>0.0</td>\n",
       "    </tr>\n",
       "    <tr>\n",
       "      <th>O</th>\n",
       "      <td>0.0</td>\n",
       "      <td>0.0</td>\n",
       "      <td>1.0</td>\n",
       "      <td>-0.67</td>\n",
       "      <td>0.0</td>\n",
       "    </tr>\n",
       "  </tbody>\n",
       "</table>\n",
       "</div>"
      ],
      "text/plain": [
       "    X1   X2   X3    X4    b\n",
       "C  1.0  0.0  0.0 -0.33  0.0\n",
       "H  0.0  1.0  0.0 -1.17  0.0\n",
       "O  0.0  0.0  1.0 -0.67  0.0"
      ]
     },
     "metadata": {},
     "output_type": "display_data"
    },
    {
     "name": "stdout",
     "output_type": "stream",
     "text": [
      "\n"
     ]
    }
   ],
   "source": [
    "print(\"Converting The Augmented Matrix to Reduced Row Echelon Form\\n\")\n",
    "reduced_row_echelon_matrix = reduced_row_echelon_form(row_echelon_matrix, pivot_positions, elements, debug=True)"
   ]
  },
  {
   "cell_type": "markdown",
   "metadata": {},
   "source": [
    "### Solve for values of X = [X1, X2, ...]"
   ]
  },
  {
   "cell_type": "code",
   "execution_count": 118,
   "metadata": {},
   "outputs": [
    {
     "name": "stdout",
     "output_type": "stream",
     "text": [
      "Basic variables: X1, X2, X3\n",
      "Free variables: X4\n"
     ]
    }
   ],
   "source": [
    "basic_variables = [i[1] for i in pivot_positions]\n",
    "print(f\"Basic variables: {', '.join(list(map(lambda x: 'X'+str(x+1), basic_variables)))}\")\n",
    "\n",
    "free_variables = [i for i in range(1,matrix.shape[1]-1) if i not in basic_variables]\n",
    "print(f\"Free variables: {', '.join(list(map(lambda x: 'X'+str(x+1), free_variables)))}\")"
   ]
  },
  {
   "cell_type": "code",
   "execution_count": 119,
   "metadata": {},
   "outputs": [
    {
     "data": {
      "text/html": [
       "<div>\n",
       "<style scoped>\n",
       "    .dataframe tbody tr th:only-of-type {\n",
       "        vertical-align: middle;\n",
       "    }\n",
       "\n",
       "    .dataframe tbody tr th {\n",
       "        vertical-align: top;\n",
       "    }\n",
       "\n",
       "    .dataframe thead th {\n",
       "        text-align: right;\n",
       "    }\n",
       "</style>\n",
       "<table border=\"1\" class=\"dataframe\">\n",
       "  <thead>\n",
       "    <tr style=\"text-align: right;\">\n",
       "      <th></th>\n",
       "      <th>X1</th>\n",
       "      <th>X2</th>\n",
       "      <th>X3</th>\n",
       "      <th>X4</th>\n",
       "    </tr>\n",
       "  </thead>\n",
       "  <tbody>\n",
       "    <tr>\n",
       "      <th>0</th>\n",
       "      <td>0.333333</td>\n",
       "      <td>1.166667</td>\n",
       "      <td>0.666667</td>\n",
       "      <td>1.0</td>\n",
       "    </tr>\n",
       "  </tbody>\n",
       "</table>\n",
       "</div>"
      ],
      "text/plain": [
       "         X1        X2        X3   X4\n",
       "0  0.333333  1.166667  0.666667  1.0"
      ]
     },
     "metadata": {},
     "output_type": "display_data"
    }
   ],
   "source": [
    "# Fix the free variables as 1\n",
    "result = np.zeros(matrix.shape[1]-1)\n",
    "result[free_variables] = 1\n",
    "\n",
    "# Find the basic variables \n",
    "for pivot in pivot_positions:\n",
    "    result[pivot[1]] = matrix[pivot[0], free_variables]@(-1*result[free_variables]) # eg. (X3, X4) dot (-2, 3) and *-1 because we moved them to RHS\n",
    "    result[pivot[1]] += matrix[pivot[0], -1] # +b\n",
    "\n",
    "result_df = pd.DataFrame(result.reshape(1, -1), columns=[\"X\"+str(x) for x in range(1,result.shape[0]+1)])\n",
    "display(result_df)"
   ]
  },
  {
   "cell_type": "markdown",
   "metadata": {},
   "source": [
    "### Bonus: Find the smallest integer multiple"
   ]
  },
  {
   "cell_type": "markdown",
   "metadata": {},
   "source": [
    "### Result"
   ]
  },
  {
   "cell_type": "markdown",
   "metadata": {},
   "source": [
    "#### Floating point coefficients"
   ]
  },
  {
   "cell_type": "code",
   "execution_count": 120,
   "metadata": {},
   "outputs": [
    {
     "name": "stdout",
     "output_type": "stream",
     "text": [
      "(0.333) C2H6 + (1.167) O2 -> (0.667) CO2 + (1.0) H2O\n"
     ]
    }
   ],
   "source": [
    "result_text = \"\"\n",
    "\n",
    "# Add the left hand side to the output text\n",
    "compound_id = 0\n",
    "for idx, compound in enumerate(compounds_left):\n",
    "    if idx != 0:\n",
    "        result_text += \" + \"\n",
    "    result_text += f\"({round(result[compound_id], 3)}) \" + \"\".join(compound)\n",
    "    compound_id += 1\n",
    "\n",
    "# Add -> to the output text\n",
    "result_text += \" -> \"\n",
    "\n",
    "# Add the right hand side to the output text\n",
    "for idx, compound in enumerate(compounds_right):\n",
    "    if idx != 0:\n",
    "        result_text += \" + \"\n",
    "    result_text += f\"({round(result[compound_id], 3)}) \" + \"\".join(compound)\n",
    "    compound_id += 1\n",
    "    \n",
    "print(result_text)"
   ]
  },
  {
   "cell_type": "markdown",
   "metadata": {},
   "source": [
    "#### Fraction coefficients"
   ]
  },
  {
   "cell_type": "code",
   "execution_count": 121,
   "metadata": {},
   "outputs": [
    {
     "data": {
      "text/plain": [
       "Fraction(1, 3)"
      ]
     },
     "execution_count": 121,
     "metadata": {},
     "output_type": "execute_result"
    }
   ],
   "source": [
    "Fraction(0.3333333333333333333).limit_denominator()"
   ]
  },
  {
   "cell_type": "code",
   "execution_count": 122,
   "metadata": {},
   "outputs": [
    {
     "name": "stdout",
     "output_type": "stream",
     "text": [
      "fraction_result: 1/3, 7/6, 2/3, 1/1\n",
      "denominators_list: [3, 6, 3, 1]\n"
     ]
    }
   ],
   "source": [
    "fraction_result = list(map(lambda x: Fraction(x).limit_denominator(), result))\n",
    "denominators_list = list(map(lambda x: x.denominator, fraction_result))\n",
    "print(\"fraction_result:\", \", \".join([f\"{i.numerator}/{i.denominator}\" for i in fraction_result]))\n",
    "print(\"denominators_list:\", denominators_list)"
   ]
  },
  {
   "cell_type": "code",
   "execution_count": 123,
   "metadata": {},
   "outputs": [
    {
     "name": "stdout",
     "output_type": "stream",
     "text": [
      "(1/3) C2H6 + (7/6) O2 -> (2/3) CO2 + (1/1) H2O\n"
     ]
    }
   ],
   "source": [
    "result_text = \"\"\n",
    "\n",
    "# Add the left hand side to the output text\n",
    "compound_id = 0\n",
    "for idx, compound in enumerate(compounds_left):\n",
    "    if idx != 0:\n",
    "        result_text += \" + \"\n",
    "    result_text += f\"({fraction_result[compound_id].numerator}/{fraction_result[compound_id].denominator}) \" + \"\".join(compound)\n",
    "    compound_id += 1\n",
    "\n",
    "# Add -> to the output text\n",
    "result_text += \" -> \"\n",
    "\n",
    "# Add the right hand side to the output text\n",
    "for idx, compound in enumerate(compounds_right):\n",
    "    if idx != 0:\n",
    "        result_text += \" + \"\n",
    "    result_text += f\"({fraction_result[compound_id].numerator}/{fraction_result[compound_id].denominator}) \" + \"\".join(compound)\n",
    "    compound_id += 1\n",
    "    \n",
    "print(result_text)"
   ]
  },
  {
   "cell_type": "markdown",
   "metadata": {},
   "source": [
    "#### Integer coefficients"
   ]
  },
  {
   "cell_type": "code",
   "execution_count": 124,
   "metadata": {},
   "outputs": [
    {
     "name": "stdout",
     "output_type": "stream",
     "text": [
      "Integer coefficients: [2. 7. 4. 6.]\n"
     ]
    }
   ],
   "source": [
    "least_common_multiplier = reduce(lcm, denominators_list)\n",
    "new_result = result * least_common_multiplier\n",
    "print(\"Integer coefficients:\", new_result)"
   ]
  },
  {
   "cell_type": "code",
   "execution_count": 125,
   "metadata": {},
   "outputs": [
    {
     "name": "stdout",
     "output_type": "stream",
     "text": [
      "(2) C2H6 + (7) O2 -> (4) CO2 + (6) H2O\n"
     ]
    }
   ],
   "source": [
    "result_text = \"\"\n",
    "\n",
    "# Add the left hand side to the output text\n",
    "compound_id = 0\n",
    "for idx, compound in enumerate(compounds_left):\n",
    "    if idx != 0:\n",
    "        result_text += \" + \"\n",
    "    result_text += f\"({int(new_result[compound_id])}) \" + \"\".join(compound)\n",
    "    compound_id += 1\n",
    "\n",
    "# Add -> to the output text\n",
    "result_text += \" -> \"\n",
    "\n",
    "# Add the right hand side to the output text\n",
    "for idx, compound in enumerate(compounds_right):\n",
    "    if idx != 0:\n",
    "        result_text += \" + \"\n",
    "    result_text += f\"({int(new_result[compound_id])}) \" + \"\".join(compound)\n",
    "    compound_id += 1\n",
    "    \n",
    "print(result_text)"
   ]
  }
 ],
 "metadata": {
  "interpreter": {
   "hash": "63fd5069d213b44bf678585dea6b12cceca9941eaf7f819626cde1f2670de90d"
  },
  "kernelspec": {
   "display_name": "Python 3.9.1 64-bit",
   "language": "python",
   "name": "python3"
  },
  "language_info": {
   "codemirror_mode": {
    "name": "ipython",
    "version": 3
   },
   "file_extension": ".py",
   "mimetype": "text/x-python",
   "name": "python",
   "nbconvert_exporter": "python",
   "pygments_lexer": "ipython3",
   "version": "3.9.1"
  },
  "orig_nbformat": 4
 },
 "nbformat": 4,
 "nbformat_minor": 2
}
